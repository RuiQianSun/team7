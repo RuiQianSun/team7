{
 "cells": [
  {
   "cell_type": "markdown",
   "metadata": {},
   "source": [
    "15 min\n",
    "\n",
    "Business Case Introduction & Motivation\n",
    "we are apart of team tasked with stroke prevention at a hospital\n",
    "people come for their daily check ups and we make recommendations\n",
    "can we predict that smoking is significant after removing the unknown status?\n",
    "\n",
    "Data Exploration & Preprocessing (5 min)\n",
    "\n",
    "Logistic Regression (5 min)\n",
    "Decision Tree\n",
    "XGBoost\n",
    "\n",
    "5 min (motivate the business case, explore the data, explain preprocessing)\n",
    "\n",
    "5 min (talk about models and model development)\n",
    "\n",
    "5 min (talk about feature importance and business case implications)\n",
    "\n",
    "Class imbalance & subsetting\n",
    "\n",
    "Feature importance & SHAP\n",
    "\n",
    "Business Case Conclusion (levels of treatment based on cost)\n",
    "Levels of recall, tiered model and tiered solutions\n",
    "one model recall level per important feature\n",
    "is smoking is a contributor we recommend that individuals disclose their smoking status\n",
    "Running a hospital, the trade off between recall and accuracy is determined by the cost of treatment\n"
   ]
  }
 ],
 "metadata": {
  "language_info": {
   "name": "python"
  }
 },
 "nbformat": 4,
 "nbformat_minor": 2
}
